{
 "cells": [
  {
   "cell_type": "code",
   "execution_count": 38,
   "metadata": {},
   "outputs": [],
   "source": [
    "import pandas as pd\n",
    "import numpy as np"
   ]
  },
  {
   "cell_type": "code",
   "execution_count": 39,
   "metadata": {},
   "outputs": [],
   "source": [
    "data = pd.read_csv(\"pii.csv\", sep='|')"
   ]
  },
  {
   "cell_type": "code",
   "execution_count": 40,
   "metadata": {},
   "outputs": [],
   "source": [
    "data['vb_tsmart_zip'] = data.vb_tsmart_zip.apply(lambda x: '0' + str(x) if len(str(x)) != 5 else x)"
   ]
  },
  {
   "cell_type": "code",
   "execution_count": 41,
   "metadata": {},
   "outputs": [],
   "source": [
    "data['vb_tsmart_zip'] = data['vb_tsmart_zip'].astype(str)"
   ]
  },
  {
   "cell_type": "code",
   "execution_count": 42,
   "metadata": {},
   "outputs": [
    {
     "data": {
      "text/plain": [
       "1791      00\n",
       "1842      00\n",
       "2458      00\n",
       "6281      00\n",
       "6757      00\n",
       "          ..\n",
       "983942    00\n",
       "984618    00\n",
       "986565    00\n",
       "993671    00\n",
       "994928    00\n",
       "Name: vb_tsmart_zip, Length: 674, dtype: object"
      ]
     },
     "execution_count": 42,
     "metadata": {},
     "output_type": "execute_result"
    }
   ],
   "source": [
    "data[data.vb_tsmart_zip.apply(lambda x: True if len(str(x)) < 4 else False)].vb_tsmart_zip"
   ]
  },
  {
   "cell_type": "code",
   "execution_count": 24,
   "metadata": {},
   "outputs": [],
   "source": [
    "data.to_csv(\"pii_zipcode_fixed.csv\")"
   ]
  },
  {
   "cell_type": "code",
   "execution_count": 58,
   "metadata": {},
   "outputs": [
    {
     "data": {
      "text/plain": [
       "Index(['index', 'vb_email', 'vb_tsmart_first_name', 'vb_tsmart_middle_name',\n",
       "       'vb_tsmart_last_name', 'vb_voterbase_phone',\n",
       "       'vb_voterbase_phone_wireless', 'vb_voterbase_dob',\n",
       "       'coalesced_noncommercial_age', 'gender_noncommercial',\n",
       "       'vb_tsmart_exact_track', 'vb_tsmart_full_address', 'vb_tsmart_city',\n",
       "       'vb_tsmart_state', 'vb_tsmart_zip', 'vb_tsmart_zip4',\n",
       "       'vb_tsmart_street_number', 'vb_tsmart_street_name',\n",
       "       'vb_tsmart_street_suffix', 'vb_vf_reg_cass_address_full',\n",
       "       'vb_vf_reg_cass_city', 'vb_vf_reg_cass_state', 'vb_vf_reg_cass_zip',\n",
       "       'vb_vf_reg_cass_zip4', 'vb_vf_reg_cass_street_num',\n",
       "       'vb_vf_reg_cass_street_name', 'vb_vf_reg_cass_street_suffix',\n",
       "       'ts_reg_urbanicity_bins', 'full_name'],\n",
       "      dtype='object')"
      ]
     },
     "execution_count": 58,
     "metadata": {},
     "output_type": "execute_result"
    }
   ],
   "source": [
    "data = data.reset_index()\n",
    "data.columns"
   ]
  },
  {
   "cell_type": "code",
   "execution_count": 59,
   "metadata": {},
   "outputs": [],
   "source": [
    "data['full_name'] = data.vb_tsmart_first_name + ' ' + data.vb_tsmart_last_name"
   ]
  },
  {
   "cell_type": "code",
   "execution_count": 69,
   "metadata": {},
   "outputs": [],
   "source": [
    "f1_both_email_phone = data[(data.vb_voterbase_phone.notnull() | data.vb_voterbase_phone_wireless.notnull()\n",
    "                           ) & (data.vb_email.notnull())]"
   ]
  },
  {
   "cell_type": "code",
   "execution_count": 70,
   "metadata": {},
   "outputs": [
    {
     "data": {
      "text/plain": [
       "(328524, 29)"
      ]
     },
     "execution_count": 70,
     "metadata": {},
     "output_type": "execute_result"
    }
   ],
   "source": [
    "f1_both_email_phone.shape"
   ]
  },
  {
   "cell_type": "code",
   "execution_count": 71,
   "metadata": {},
   "outputs": [
    {
     "name": "stderr",
     "output_type": "stream",
     "text": [
      "/Users/gabriel/anaconda3/lib/python3.7/site-packages/ipykernel_launcher.py:3: UserWarning: Boolean Series key will be reindexed to match DataFrame index.\n",
      "  This is separate from the ipykernel package so we can avoid doing imports until\n"
     ]
    },
    {
     "data": {
      "text/plain": [
       "(325907, 29)"
      ]
     },
     "execution_count": 71,
     "metadata": {},
     "output_type": "execute_result"
    }
   ],
   "source": [
    "subset1 = data[~data.index.isin(f1_both_email_phone.index)]\n",
    "f2_phone_only = subset1[(subset1.vb_voterbase_phone.notnull()) | (data.vb_voterbase_phone_wireless.notnull()) \n",
    "                        & (subset1.vb_email.isnull())]\n",
    "f2_phone_only.shape"
   ]
  },
  {
   "cell_type": "code",
   "execution_count": 72,
   "metadata": {},
   "outputs": [
    {
     "data": {
      "text/plain": [
       "(671476, 29)"
      ]
     },
     "execution_count": 72,
     "metadata": {},
     "output_type": "execute_result"
    }
   ],
   "source": [
    "subset1.shape"
   ]
  },
  {
   "cell_type": "code",
   "execution_count": 76,
   "metadata": {},
   "outputs": [
    {
     "name": "stderr",
     "output_type": "stream",
     "text": [
      "/Users/gabriel/anaconda3/lib/python3.7/site-packages/ipykernel_launcher.py:4: UserWarning: Boolean Series key will be reindexed to match DataFrame index.\n",
      "  after removing the cwd from sys.path.\n"
     ]
    },
    {
     "data": {
      "text/plain": [
       "(57875, 29)"
      ]
     },
     "execution_count": 76,
     "metadata": {},
     "output_type": "execute_result"
    }
   ],
   "source": [
    "subset2 = data[(~data.index.isin(f1_both_email_phone.index)) \n",
    "               & (~data.index.isin(f2_phone_only.index))]\n",
    "f3_email_only = subset2[(subset2.vb_email.notnull()) & ((subset1.vb_voterbase_phone.isnull()) & \n",
    "                        (data.vb_voterbase_phone_wireless.isnull()))]\n",
    "f3_email_only.shape"
   ]
  },
  {
   "cell_type": "code",
   "execution_count": 77,
   "metadata": {},
   "outputs": [],
   "source": [
    "subset3 = data[(~data.index.isin(f1_both_email_phone.index)) \n",
    "               & (~data.index.isin(f2_phone_only.index))\n",
    "              & (~data.index.isin(f3_email_only.index))]"
   ]
  },
  {
   "cell_type": "code",
   "execution_count": 78,
   "metadata": {},
   "outputs": [],
   "source": [
    "f4_both_missing = subset3[(subset3.vb_email.isnull()) & (\n",
    "    subset3.vb_voterbase_phone.isnull() & subset3.vb_voterbase_phone_wireless.isnull()\n",
    "\n",
    ")]"
   ]
  },
  {
   "cell_type": "code",
   "execution_count": 79,
   "metadata": {},
   "outputs": [
    {
     "data": {
      "text/plain": [
       "(287694, 29)"
      ]
     },
     "execution_count": 79,
     "metadata": {},
     "output_type": "execute_result"
    }
   ],
   "source": [
    "f4_both_missing.shape"
   ]
  },
  {
   "cell_type": "code",
   "execution_count": 80,
   "metadata": {},
   "outputs": [
    {
     "data": {
      "text/plain": [
       "1000000"
      ]
     },
     "execution_count": 80,
     "metadata": {},
     "output_type": "execute_result"
    }
   ],
   "source": [
    "287694 + 57875 + 325907 + 328524"
   ]
  },
  {
   "cell_type": "code",
   "execution_count": 81,
   "metadata": {},
   "outputs": [
    {
     "data": {
      "text/plain": [
       "Index(['index', 'vb_email', 'vb_tsmart_first_name', 'vb_tsmart_middle_name',\n",
       "       'vb_tsmart_last_name', 'vb_voterbase_phone',\n",
       "       'vb_voterbase_phone_wireless', 'vb_voterbase_dob',\n",
       "       'coalesced_noncommercial_age', 'gender_noncommercial',\n",
       "       'vb_tsmart_exact_track', 'vb_tsmart_full_address', 'vb_tsmart_city',\n",
       "       'vb_tsmart_state', 'vb_tsmart_zip', 'vb_tsmart_zip4',\n",
       "       'vb_tsmart_street_number', 'vb_tsmart_street_name',\n",
       "       'vb_tsmart_street_suffix', 'vb_vf_reg_cass_address_full',\n",
       "       'vb_vf_reg_cass_city', 'vb_vf_reg_cass_state', 'vb_vf_reg_cass_zip',\n",
       "       'vb_vf_reg_cass_zip4', 'vb_vf_reg_cass_street_num',\n",
       "       'vb_vf_reg_cass_street_name', 'vb_vf_reg_cass_street_suffix',\n",
       "       'ts_reg_urbanicity_bins', 'full_name'],\n",
       "      dtype='object')"
      ]
     },
     "execution_count": 81,
     "metadata": {},
     "output_type": "execute_result"
    }
   ],
   "source": [
    "data.columns"
   ]
  },
  {
   "cell_type": "code",
   "execution_count": 87,
   "metadata": {},
   "outputs": [],
   "source": [
    "def rename(df):\n",
    "    \n",
    "    df = df.rename(columns={\n",
    "        \"vb_tsmart_first_name\" : \"fn\",\n",
    "        \"vb_tsmart_last_name\" : \"ln\",\n",
    "        \"vb_voterbase_phone\" : \"phone\",\n",
    "        \"vb_voterbase_dob\" : \"dob\",\n",
    "        \"gender_noncommercial\" : \"gen\",\n",
    "        \"vb_tsmart_city\" : \"ct\",\n",
    "        \"vb_tsmart_state\" : \"st\",\n",
    "        \"vb_tsmart_zip\" : \"zip\",\n",
    "        \"vb_email\" : \"email\"\n",
    "    })\n",
    "    df['age'] = 2020 - int(str(df.dob)[:4])\n",
    "    df['country'] = \"US\"\n",
    "    \n",
    "    df = df[['fn', 'ln', 'phone', 'dob', 'age', 'gen', 'ct', 'st', 'zip', 'email', 'country']]\n",
    "    \n",
    "    return df"
   ]
  },
  {
   "cell_type": "code",
   "execution_count": 91,
   "metadata": {},
   "outputs": [],
   "source": [
    "f1 = rename(f1_both_email_phone)"
   ]
  },
  {
   "cell_type": "code",
   "execution_count": 93,
   "metadata": {},
   "outputs": [],
   "source": [
    "f2 = rename(f2_phone_only)"
   ]
  },
  {
   "cell_type": "code",
   "execution_count": 95,
   "metadata": {},
   "outputs": [],
   "source": [
    "f3 = rename(f3_email_only)"
   ]
  },
  {
   "cell_type": "code",
   "execution_count": 96,
   "metadata": {},
   "outputs": [],
   "source": [
    "f4 = rename(f4_both_missing)"
   ]
  },
  {
   "cell_type": "code",
   "execution_count": 99,
   "metadata": {},
   "outputs": [],
   "source": [
    "f1.to_csv(\"f1_both_email_phone.csv\")"
   ]
  },
  {
   "cell_type": "code",
   "execution_count": 100,
   "metadata": {},
   "outputs": [],
   "source": [
    "f2.to_csv(\"f2_phone_only.csv\")"
   ]
  },
  {
   "cell_type": "code",
   "execution_count": 101,
   "metadata": {},
   "outputs": [],
   "source": [
    "f3.to_csv(\"f3_email_only.csv\")"
   ]
  },
  {
   "cell_type": "code",
   "execution_count": 102,
   "metadata": {},
   "outputs": [],
   "source": [
    "f4.to_csv(\"f4_both_missing.csv\")"
   ]
  },
  {
   "cell_type": "code",
   "execution_count": 104,
   "metadata": {},
   "outputs": [],
   "source": [
    "f1b = f1\n",
    "f1b['email'] = np.nan\n",
    "f1b['phone'] = np.nan\n",
    "f1b.to_csv(\"f1b_both_removed.csv\")"
   ]
  },
  {
   "cell_type": "code",
   "execution_count": 105,
   "metadata": {},
   "outputs": [],
   "source": [
    "f2b = f2\n",
    "f2b['phone'] = np.nan\n",
    "f2b.to_csv(\"f2b_phone_removed.csv\")"
   ]
  },
  {
   "cell_type": "code",
   "execution_count": 106,
   "metadata": {},
   "outputs": [],
   "source": [
    "f3b = f3\n",
    "f3b['email'] = np.nan\n",
    "f3b.to_csv(\"f3b_email_removed.csv\")"
   ]
  },
  {
   "cell_type": "code",
   "execution_count": 108,
   "metadata": {},
   "outputs": [
    {
     "data": {
      "text/plain": [
       "1000000"
      ]
     },
     "execution_count": 108,
     "metadata": {},
     "output_type": "execute_result"
    }
   ],
   "source": [
    "f1.shape[0] + f2.shape[0] + f3.shape[0] + f4.shape[0]"
   ]
  },
  {
   "cell_type": "code",
   "execution_count": null,
   "metadata": {},
   "outputs": [],
   "source": []
  }
 ],
 "metadata": {
  "kernelspec": {
   "display_name": "Python 3",
   "language": "python",
   "name": "python3"
  },
  "language_info": {
   "codemirror_mode": {
    "name": "ipython",
    "version": 3
   },
   "file_extension": ".py",
   "mimetype": "text/x-python",
   "name": "python",
   "nbconvert_exporter": "python",
   "pygments_lexer": "ipython3",
   "version": "3.7.4"
  }
 },
 "nbformat": 4,
 "nbformat_minor": 2
}
