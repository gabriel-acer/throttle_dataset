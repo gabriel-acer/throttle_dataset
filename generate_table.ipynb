{
 "cells": [
  {
   "cell_type": "code",
   "execution_count": 1,
   "metadata": {},
   "outputs": [],
   "source": [
    "import pandas as pd\n",
    "import numpy as np"
   ]
  },
  {
   "cell_type": "code",
   "execution_count": 2,
   "metadata": {},
   "outputs": [],
   "source": [
    "maids, email, phone = pd.read_csv(\"maids.csv\"), pd.read_csv(\"phone.csv\"), pd.read_csv(\"email.csv\")"
   ]
  },
  {
   "cell_type": "code",
   "execution_count": 3,
   "metadata": {},
   "outputs": [],
   "source": [
    "f1, f2, f3, f4 = pd.read_csv(\"final_table/f1.csv\"), pd.read_csv(\"final_table/f2.csv\"), pd.read_csv(\"final_table/f3.csv\"), pd.read_csv(\"final_table/f4.csv\")"
   ]
  },
  {
   "cell_type": "code",
   "execution_count": 4,
   "metadata": {},
   "outputs": [
    {
     "data": {
      "text/plain": [
       "1000000"
      ]
     },
     "execution_count": 4,
     "metadata": {},
     "output_type": "execute_result"
    }
   ],
   "source": [
    "f1.shape[0] + f2.shape[0] + f3.shape[0] + f4.shape[0] "
   ]
  },
  {
   "cell_type": "code",
   "execution_count": 5,
   "metadata": {},
   "outputs": [],
   "source": [
    "for df in [f1, f2, f3, f4]:\n",
    "    df.fillna('-', inplace=True)\n",
    "    df['id'] = df.fn + df.ln + df.dob.astype(str) + df.st + df.zip.astype(str)"
   ]
  },
  {
   "cell_type": "code",
   "execution_count": 6,
   "metadata": {},
   "outputs": [],
   "source": [
    "for df in [maids, email, phone]:\n",
    "    df.fillna('-', inplace=True)\n",
    "    df['id'] = df.vb_tsmart_first_name + df.vb_tsmart_last_name + df.vb_voterbase_dob.astype(str) + \\\n",
    "    df.vb_tsmart_state + df.vb_tsmart_zip.astype(str)"
   ]
  },
  {
   "cell_type": "code",
   "execution_count": 12,
   "metadata": {},
   "outputs": [
    {
     "name": "stdout",
     "output_type": "stream",
     "text": [
      "Shape after de-duplicates for: 1 581797\n",
      "Shape after de-duplicates for: 2 467009\n",
      "Shape after de-duplicates for: 3 105164\n",
      "Shape after de-duplicates for: 4 380116\n"
     ]
    }
   ],
   "source": [
    "dfs = [f1, f2, f3, f4]\n",
    "for i in range(0, len(dfs)):\n",
    "    df = dfs[i]\n",
    "    # first create phone sub\n",
    "    phone_sub = df.merge(phone, on='id', how='left')\n",
    "    cols = ['Unnamed: 0', 'fn', 'ln', 'vb_voterbase_phone', 'dob', 'age', 'gen', 'ct', 'st',\n",
    "       'zip', 'vb_email', 'country', 'id']\n",
    "    # if voterbase phone is null, use wireless phone instead since only add rows but not columns\n",
    "    phone_sub.loc[phone_sub.vb_voterbase_phone == '-', \n",
    "                  'vb_voterbase_phone'] = phone_sub.vb_voterbase_phone_wireless\n",
    "    # get all records from phone table after merge\n",
    "    # rename for appending\n",
    "    # this is all the new phone, email from phone dataset\n",
    "    phone_sub_app = phone_sub[cols].rename(columns={'vb_voterbase_phone' : 'phone',\n",
    "                                   'vb_email' : 'email'})\n",
    "    \n",
    "    # second create maid sub\n",
    "    maid_sub = df.merge(maids, on='id', how='left')\n",
    "    cols = ['Unnamed: 0', 'fn', 'ln', 'vb_voterbase_phone', 'dob', 'age', 'gen', 'ct', 'st',\n",
    "       'zip', 'vb_email', 'country', 'id']\n",
    "    # if voterbase phone is null, use wireless phone instead since only add rows but not columns\n",
    "    maid_sub.loc[maid_sub.vb_voterbase_phone == '-', \n",
    "                  'vb_voterbase_phone'] = maid_sub.vb_voterbase_phone_wireless\n",
    "    # get all records from maid table after merge\n",
    "    # rename for appending\n",
    "    # this is all the new phone, email from maid dataset\n",
    "    maid_sub_app = maid_sub[cols].rename(columns={'vb_voterbase_phone' : 'phone',\n",
    "                                   'vb_email' : 'email'})\n",
    "    \n",
    "    \n",
    "    # appending\n",
    "    maid_subf, phone_subf = maid_sub_app[df.columns], phone_sub_app[df.columns]\n",
    "    df_enriched = df.append(maid_subf)\n",
    "    df_enriched = df_enriched.append(phone_subf)\n",
    "    cols = list(df_enriched.columns) + ['native_maid']\n",
    "    # add maid value to df \n",
    "    df_enriched_maid = df_enriched.merge(maids, on='id', how='left')[cols]\n",
    "    df_enriched_maid = df_enriched_maid.rename(columns={'native_maid' : 'madid'})\n",
    "    df_enriched_maid_dedup = df_enriched_maid.drop_duplicates()\n",
    "    print(\"Shape after de-duplicates for: \" + str(i + 1), df_enriched_maid_dedup.shape[0])\n",
    "    df_enriched_maid_dedup.to_csv(\"final_table/f\" + str(i + 1) + '_enriched.csv')"
   ]
  }
 ],
 "metadata": {
  "kernelspec": {
   "display_name": "Python 3",
   "language": "python",
   "name": "python3"
  },
  "language_info": {
   "codemirror_mode": {
    "name": "ipython",
    "version": 3
   },
   "file_extension": ".py",
   "mimetype": "text/x-python",
   "name": "python",
   "nbconvert_exporter": "python",
   "pygments_lexer": "ipython3",
   "version": "3.7.4"
  }
 },
 "nbformat": 4,
 "nbformat_minor": 2
}
