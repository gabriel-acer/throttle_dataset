{
 "cells": [
  {
   "cell_type": "code",
   "execution_count": 1,
   "metadata": {},
   "outputs": [],
   "source": [
    "import pandas as pd\n",
    "import numpy as np"
   ]
  },
  {
   "cell_type": "code",
   "execution_count": 2,
   "metadata": {},
   "outputs": [],
   "source": [
    "maids, email, phone = pd.read_csv(\"maids.csv\"), pd.read_csv(\"phone.csv\"), pd.read_csv(\"email.csv\")"
   ]
  },
  {
   "cell_type": "code",
   "execution_count": 11,
   "metadata": {},
   "outputs": [
    {
     "data": {
      "text/plain": [
       "Index(['vb_email', 'vb_tsmart_first_name', 'vb_tsmart_middle_name',\n",
       "       'vb_tsmart_last_name', 'vb_voterbase_phone',\n",
       "       'vb_voterbase_phone_wireless', 'vb_voterbase_dob',\n",
       "       'coalesced_noncommercial_age', 'gender_noncommercial',\n",
       "       'vb_tsmart_exact_track', 'vb_tsmart_full_address', 'vb_tsmart_city',\n",
       "       'vb_tsmart_state', 'vb_tsmart_zip', 'vb_tsmart_zip4',\n",
       "       'vb_tsmart_street_number', 'vb_tsmart_street_name',\n",
       "       'vb_tsmart_street_suffix', 'vb_vf_reg_cass_street_suffix',\n",
       "       'ts_reg_urbanicity_bins', 'throtle_id', 'md5_lower', 'sha1_lower',\n",
       "       'sha256_lower', 'id'],\n",
       "      dtype='object')"
      ]
     },
     "execution_count": 11,
     "metadata": {},
     "output_type": "execute_result"
    }
   ],
   "source": [
    "phone.columns"
   ]
  },
  {
   "cell_type": "code",
   "execution_count": 3,
   "metadata": {},
   "outputs": [],
   "source": [
    "f1, f2, f3, f4 = pd.read_csv(\"final_table/f1_both_email_phone.csv\"),\\\n",
    "                pd.read_csv(\"final_table/f2_phone_only.csv\"), \\\n",
    "                pd.read_csv(\"final_table/f3_email_only.csv\"), \\\n",
    "               pd.read_csv(\"final_table/f4_both_missing.csv\")"
   ]
  },
  {
   "cell_type": "code",
   "execution_count": 4,
   "metadata": {},
   "outputs": [
    {
     "data": {
      "text/plain": [
       "1000000"
      ]
     },
     "execution_count": 4,
     "metadata": {},
     "output_type": "execute_result"
    }
   ],
   "source": [
    "f1.shape[0] + f2.shape[0] + f3.shape[0] + f4.shape[0] "
   ]
  },
  {
   "cell_type": "code",
   "execution_count": 5,
   "metadata": {},
   "outputs": [],
   "source": [
    "for df in [f1, f2, f3, f4]:\n",
    "    df.fillna('-', inplace=True)\n",
    "    df['id'] = df.fn + df.ln + df.dob.astype(str) + df.st + df.zip.astype(str)"
   ]
  },
  {
   "cell_type": "code",
   "execution_count": 6,
   "metadata": {},
   "outputs": [],
   "source": [
    "for df in [maids, email, phone]:\n",
    "    df.fillna('-', inplace=True)\n",
    "    df['id'] = df.vb_tsmart_first_name + df.vb_tsmart_last_name + df.vb_voterbase_dob.astype(str) + \\\n",
    "    df.vb_tsmart_state + df.vb_tsmart_zip.astype(str)"
   ]
  },
  {
   "cell_type": "code",
   "execution_count": 15,
   "metadata": {},
   "outputs": [
    {
     "name": "stdout",
     "output_type": "stream",
     "text": [
      "Index(['Unnamed: 0', 'fn', 'ln', 'phone1', 'phone2', 'dob', 'age', 'gen', 'ct',\n",
      "       'st', 'zip', 'email', 'country', 'id'],\n",
      "      dtype='object')\n",
      "Shape after de-duplicates for: 1 1163580\n",
      "Index(['Unnamed: 0', 'fn', 'ln', 'phone1', 'phone2', 'dob', 'age', 'gen', 'ct',\n",
      "       'st', 'zip', 'email', 'country', 'id'],\n",
      "      dtype='object')\n",
      "Shape after de-duplicates for: 2 934000\n",
      "Index(['Unnamed: 0', 'fn', 'ln', 'phone1', 'phone2', 'dob', 'age', 'gen', 'ct',\n",
      "       'st', 'zip', 'email', 'country', 'id'],\n",
      "      dtype='object')\n",
      "Shape after de-duplicates for: 3 105164\n",
      "Index(['Unnamed: 0', 'fn', 'ln', 'phone1', 'phone2', 'dob', 'age', 'gen', 'ct',\n",
      "       'st', 'zip', 'email', 'country', 'id'],\n",
      "      dtype='object')\n",
      "Shape after de-duplicates for: 4 380116\n"
     ]
    }
   ],
   "source": [
    "dfs = [f1, f2, f3, f4]\n",
    "for i in range(0, len(dfs)):\n",
    "    df = dfs[i]\n",
    "    # first create phone sub\n",
    "    phone_sub = df.merge(phone, on='id', how='left')\n",
    "    cols = ['Unnamed: 0', 'fn', 'ln', 'vb_voterbase_phone', 'vb_voterbase_phone_wireless', \n",
    "           'dob', 'age', 'gen', 'ct', 'st', 'zip', 'vb_email', 'country', 'id']\n",
    "\n",
    "    # get all records from phone table after merge\n",
    "    # rename for appending\n",
    "    # this is all the new phone, email from phone dataset\n",
    "    phone_sub_app = phone_sub[cols].rename(columns={'vb_voterbase_phone' : 'phone1',\n",
    "                                                    'vb_voterbase_phone_wireless' : 'phone2',\n",
    "                                                    'vb_email' : 'email',\n",
    "                                                   })\n",
    "    \n",
    "    # second create maid sub\n",
    "    maid_sub = df.merge(maids, on='id', how='left')\n",
    "    cols = ['Unnamed: 0', 'fn', 'ln', 'vb_voterbase_phone', 'vb_voterbase_phone_wireless',\n",
    "            'dob', 'age', 'gen', 'ct', 'st', 'zip', 'vb_email', 'country', 'id']\n",
    "    # get all records from maid table after merge\n",
    "    # rename for appending\n",
    "    # this is all the new phone, email from maid dataset\n",
    "    maid_sub_app = maid_sub[cols].rename(columns={'vb_voterbase_phone' : 'phone1',\n",
    "                                                  'vb_voterbase_phone_wireless' : 'phone2',\n",
    "                                                  'vb_email' : 'email'})\n",
    "    \n",
    "    \n",
    "    # appending\n",
    "    new_cols = list(df.columns) \n",
    "    maid_subf, phone_subf = maid_sub_app[new_cols], phone_sub_app[new_cols]\n",
    "    df_enriched = df.append(maid_subf)\n",
    "    df_enriched = df_enriched.append(phone_subf)\n",
    "    cols = list(df_enriched.columns) + ['native_maid', 'throtle_id']\n",
    "    # add maid value to df \n",
    "    df_enriched_maid = df_enriched.merge(maids, on='id', how='left')[cols]\n",
    "    df_enriched_maid = df_enriched_maid.rename(columns={'native_maid' : 'madid'})\n",
    "    df_enriched_maid_dedup = df_enriched_maid.drop_duplicates()\n",
    "    print(\"Shape after de-duplicates for: \" + str(i + 1), df_enriched_maid_dedup.shape[0])\n",
    "    df_enriched_maid_dedup = df_enriched_maid_dedup[df_enriched_maid_dedup.columns[1:]]\n",
    "    # fix phone number, dob and gender issue\n",
    "    \n",
    "    df_enriched_maid_dedup.to_csv(\"final_table/f\" + str(i + 1) + '_enriched.csv')"
   ]
  },
  {
   "cell_type": "code",
   "execution_count": 16,
   "metadata": {},
   "outputs": [
    {
     "data": {
      "text/plain": [
       "0          4.18781e+07\n",
       "1          4.18781e+07\n",
       "2                    -\n",
       "3                    -\n",
       "4                    -\n",
       "              ...     \n",
       "1534016    1.98751e+08\n",
       "1534017              -\n",
       "1534018              -\n",
       "1534019    2.05905e+07\n",
       "1534020    2.05905e+07\n",
       "Name: throtle_id, Length: 1534021, dtype: object"
      ]
     },
     "execution_count": 16,
     "metadata": {},
     "output_type": "execute_result"
    }
   ],
   "source": [
    "maids[]"
   ]
  },
  {
   "cell_type": "code",
   "execution_count": null,
   "metadata": {},
   "outputs": [],
   "source": []
  }
 ],
 "metadata": {
  "kernelspec": {
   "display_name": "Python 3",
   "language": "python",
   "name": "python3"
  },
  "language_info": {
   "codemirror_mode": {
    "name": "ipython",
    "version": 3
   },
   "file_extension": ".py",
   "mimetype": "text/x-python",
   "name": "python",
   "nbconvert_exporter": "python",
   "pygments_lexer": "ipython3",
   "version": "3.7.4"
  }
 },
 "nbformat": 4,
 "nbformat_minor": 2
}
